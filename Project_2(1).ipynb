{
 "cells": [
  {
   "cell_type": "code",
   "execution_count": 2,
   "id": "c25b675c",
   "metadata": {},
   "outputs": [],
   "source": [
    "import pandas as pd\n",
    "import numpy as np\n",
    "import geopandas as pgd\n",
    "import os\n",
    "import sqlite3"
   ]
  },
  {
   "cell_type": "code",
   "execution_count": 3,
   "id": "d0dd197d",
   "metadata": {},
   "outputs": [],
   "source": [
    "os.chdir('C:\\\\Users\\\\nimes\\\\Desktop\\\\Project 2\\\\Data\\\\County')\n",
    "County = pgd.read_file('County.shp')\n",
    "#County.plot(figsize=(10, 10))\n",
    "#County.crs"
   ]
  },
  {
   "cell_type": "code",
   "execution_count": 4,
   "id": "29453af8",
   "metadata": {},
   "outputs": [],
   "source": [
    "SE = ['Newton', 'Orange', 'Jefferson', 'Chambers', 'Galveston', 'Montgomery', 'Walker', 'Jasper', 'Polk', 'Tyler', 'Liberty', 'Hardin', 'San Jacinto', 'Harris']"
   ]
  },
  {
   "cell_type": "code",
   "execution_count": 5,
   "id": "b680bbcc",
   "metadata": {},
   "outputs": [],
   "source": [
    "Result = []\n",
    "for n in SE:\n",
    "    SE_C = County.loc[County['CNTY_NM'] == n]\n",
    "    Result.append(SE_C)\n",
    "#print(Result)"
   ]
  },
  {
   "cell_type": "code",
   "execution_count": 6,
   "id": "e94209c7",
   "metadata": {},
   "outputs": [],
   "source": [
    "SE_County = pd.concat(Result)\n",
    "#SE_County"
   ]
  },
  {
   "cell_type": "code",
   "execution_count": 8,
   "id": "1de021ac",
   "metadata": {
    "scrolled": true
   },
   "outputs": [
    {
     "data": {
      "text/plain": [
       "<Geographic 2D CRS: EPSG:4326>\n",
       "Name: WGS 84\n",
       "Axis Info [ellipsoidal]:\n",
       "- Lat[north]: Geodetic latitude (degree)\n",
       "- Lon[east]: Geodetic longitude (degree)\n",
       "Area of Use:\n",
       "- name: World.\n",
       "- bounds: (-180.0, -90.0, 180.0, 90.0)\n",
       "Datum: World Geodetic System 1984 ensemble\n",
       "- Ellipsoid: WGS 84\n",
       "- Prime Meridian: Greenwich"
      ]
     },
     "execution_count": 8,
     "metadata": {},
     "output_type": "execute_result"
    }
   ],
   "source": [
    "#SE_County.plot(figsize=(10, 10))\n",
    "SE_County.crs\n"
   ]
  },
  {
   "cell_type": "code",
   "execution_count": 17,
   "id": "806b84d0",
   "metadata": {},
   "outputs": [],
   "source": [
    "SE_County.to_csv('SouthEastTexasCounty.csv')\n",
    "SE_County.to_file('SouthEastTexasCounty.shp')\n",
    "##county = pd.read_csv('SouthEastTexasCounty.csv')\n",
    "##county"
   ]
  },
  {
   "cell_type": "code",
   "execution_count": 11,
   "id": "3c108c11",
   "metadata": {
    "scrolled": true
   },
   "outputs": [],
   "source": [
    "#import branca as bc\n",
    "#import folium\n",
    "#SE_County.explore(cmap='set1')"
   ]
  },
  {
   "cell_type": "code",
   "execution_count": 12,
   "id": "0ef9c151",
   "metadata": {},
   "outputs": [],
   "source": [
    "os.chdir('C:\\\\Users\\\\nimes\\\\Desktop\\\\Project 2\\\\Data')\n",
    "Roadways = pgd.read_file('TxDOT_Roadways.shp')\n",
    "#Roadways"
   ]
  },
  {
   "cell_type": "code",
   "execution_count": null,
   "id": "cead221f",
   "metadata": {},
   "outputs": [],
   "source": [
    "#Roadways.plot()\n",
    "#Roadways.crs"
   ]
  },
  {
   "cell_type": "code",
   "execution_count": 13,
   "id": "ce5c6211",
   "metadata": {},
   "outputs": [],
   "source": [
    "SE_Roadways = Roadways.clip(SE_County)\n",
    "#SE_Roadways.plot()"
   ]
  },
  {
   "cell_type": "code",
   "execution_count": 15,
   "id": "192ac09c",
   "metadata": {},
   "outputs": [
    {
     "data": {
      "text/html": [
       "<div>\n",
       "<style scoped>\n",
       "    .dataframe tbody tr th:only-of-type {\n",
       "        vertical-align: middle;\n",
       "    }\n",
       "\n",
       "    .dataframe tbody tr th {\n",
       "        vertical-align: top;\n",
       "    }\n",
       "\n",
       "    .dataframe thead th {\n",
       "        text-align: right;\n",
       "    }\n",
       "</style>\n",
       "<table border=\"1\" class=\"dataframe\">\n",
       "  <thead>\n",
       "    <tr style=\"text-align: right;\">\n",
       "      <th></th>\n",
       "      <th>OBJECTID_left</th>\n",
       "      <th>GID_left</th>\n",
       "      <th>BEGIN_DFO</th>\n",
       "      <th>END_DFO</th>\n",
       "      <th>RTE_NM</th>\n",
       "      <th>RTE_GRID</th>\n",
       "      <th>RTE_PRFX</th>\n",
       "      <th>RTE_NBR</th>\n",
       "      <th>RTE_SFX</th>\n",
       "      <th>RDBD_TYPE</th>\n",
       "      <th>...</th>\n",
       "      <th>OBJECTID_right</th>\n",
       "      <th>CMPTRL_CNT</th>\n",
       "      <th>DPS_CNTY_N</th>\n",
       "      <th>FIPS_ST_CN</th>\n",
       "      <th>TXDOT_CNTY</th>\n",
       "      <th>TXDOT_DIST</th>\n",
       "      <th>CNTY_NM</th>\n",
       "      <th>GID_right</th>\n",
       "      <th>SHAPE_Leng_right</th>\n",
       "      <th>SHAPE_Area</th>\n",
       "    </tr>\n",
       "  </thead>\n",
       "  <tbody>\n",
       "    <tr>\n",
       "      <th>483732</th>\n",
       "      <td>483733</td>\n",
       "      <td>1599256324</td>\n",
       "      <td>12.875</td>\n",
       "      <td>255.676</td>\n",
       "      <td>US0059-KG</td>\n",
       "      <td>154765</td>\n",
       "      <td>US</td>\n",
       "      <td>59</td>\n",
       "      <td>None</td>\n",
       "      <td>Single Roadbed</td>\n",
       "      <td>...</td>\n",
       "      <td>47</td>\n",
       "      <td>204</td>\n",
       "      <td>204</td>\n",
       "      <td>48407</td>\n",
       "      <td>204</td>\n",
       "      <td>11</td>\n",
       "      <td>San Jacinto</td>\n",
       "      <td>81</td>\n",
       "      <td>2.203358</td>\n",
       "      <td>0.153019</td>\n",
       "    </tr>\n",
       "    <tr>\n",
       "      <th>138000</th>\n",
       "      <td>138001</td>\n",
       "      <td>165318</td>\n",
       "      <td>0.000</td>\n",
       "      <td>0.175</td>\n",
       "      <td>204AA3624</td>\n",
       "      <td>75412</td>\n",
       "      <td>CR</td>\n",
       "      <td>3624</td>\n",
       "      <td>None</td>\n",
       "      <td>Single Roadbed</td>\n",
       "      <td>...</td>\n",
       "      <td>47</td>\n",
       "      <td>204</td>\n",
       "      <td>204</td>\n",
       "      <td>48407</td>\n",
       "      <td>204</td>\n",
       "      <td>11</td>\n",
       "      <td>San Jacinto</td>\n",
       "      <td>81</td>\n",
       "      <td>2.203358</td>\n",
       "      <td>0.153019</td>\n",
       "    </tr>\n",
       "    <tr>\n",
       "      <th>138049</th>\n",
       "      <td>138050</td>\n",
       "      <td>165317</td>\n",
       "      <td>0.000</td>\n",
       "      <td>0.121</td>\n",
       "      <td>204AA3623</td>\n",
       "      <td>75393</td>\n",
       "      <td>CR</td>\n",
       "      <td>3623</td>\n",
       "      <td>None</td>\n",
       "      <td>Single Roadbed</td>\n",
       "      <td>...</td>\n",
       "      <td>47</td>\n",
       "      <td>204</td>\n",
       "      <td>204</td>\n",
       "      <td>48407</td>\n",
       "      <td>204</td>\n",
       "      <td>11</td>\n",
       "      <td>San Jacinto</td>\n",
       "      <td>81</td>\n",
       "      <td>2.203358</td>\n",
       "      <td>0.153019</td>\n",
       "    </tr>\n",
       "    <tr>\n",
       "      <th>164724</th>\n",
       "      <td>164725</td>\n",
       "      <td>196731</td>\n",
       "      <td>0.000</td>\n",
       "      <td>0.352</td>\n",
       "      <td>204AA3620</td>\n",
       "      <td>75331</td>\n",
       "      <td>CR</td>\n",
       "      <td>3620</td>\n",
       "      <td>None</td>\n",
       "      <td>Single Roadbed</td>\n",
       "      <td>...</td>\n",
       "      <td>47</td>\n",
       "      <td>204</td>\n",
       "      <td>204</td>\n",
       "      <td>48407</td>\n",
       "      <td>204</td>\n",
       "      <td>11</td>\n",
       "      <td>San Jacinto</td>\n",
       "      <td>81</td>\n",
       "      <td>2.203358</td>\n",
       "      <td>0.153019</td>\n",
       "    </tr>\n",
       "    <tr>\n",
       "      <th>137637</th>\n",
       "      <td>137638</td>\n",
       "      <td>165316</td>\n",
       "      <td>0.000</td>\n",
       "      <td>0.124</td>\n",
       "      <td>204AA3622</td>\n",
       "      <td>75374</td>\n",
       "      <td>CR</td>\n",
       "      <td>3622</td>\n",
       "      <td>None</td>\n",
       "      <td>Single Roadbed</td>\n",
       "      <td>...</td>\n",
       "      <td>47</td>\n",
       "      <td>204</td>\n",
       "      <td>204</td>\n",
       "      <td>48407</td>\n",
       "      <td>204</td>\n",
       "      <td>11</td>\n",
       "      <td>San Jacinto</td>\n",
       "      <td>81</td>\n",
       "      <td>2.203358</td>\n",
       "      <td>0.153019</td>\n",
       "    </tr>\n",
       "    <tr>\n",
       "      <th>...</th>\n",
       "      <td>...</td>\n",
       "      <td>...</td>\n",
       "      <td>...</td>\n",
       "      <td>...</td>\n",
       "      <td>...</td>\n",
       "      <td>...</td>\n",
       "      <td>...</td>\n",
       "      <td>...</td>\n",
       "      <td>...</td>\n",
       "      <td>...</td>\n",
       "      <td>...</td>\n",
       "      <td>...</td>\n",
       "      <td>...</td>\n",
       "      <td>...</td>\n",
       "      <td>...</td>\n",
       "      <td>...</td>\n",
       "      <td>...</td>\n",
       "      <td>...</td>\n",
       "      <td>...</td>\n",
       "      <td>...</td>\n",
       "      <td>...</td>\n",
       "    </tr>\n",
       "    <tr>\n",
       "      <th>202196</th>\n",
       "      <td>202197</td>\n",
       "      <td>237163</td>\n",
       "      <td>0.000</td>\n",
       "      <td>0.389</td>\n",
       "      <td>1024414</td>\n",
       "      <td>199935</td>\n",
       "      <td>CS</td>\n",
       "      <td>1024414</td>\n",
       "      <td>None</td>\n",
       "      <td>Single Roadbed</td>\n",
       "      <td>...</td>\n",
       "      <td>13</td>\n",
       "      <td>36</td>\n",
       "      <td>36</td>\n",
       "      <td>48071</td>\n",
       "      <td>36</td>\n",
       "      <td>20</td>\n",
       "      <td>Chambers</td>\n",
       "      <td>47</td>\n",
       "      <td>2.564857</td>\n",
       "      <td>0.209734</td>\n",
       "    </tr>\n",
       "    <tr>\n",
       "      <th>202601</th>\n",
       "      <td>202602</td>\n",
       "      <td>237166</td>\n",
       "      <td>0.000</td>\n",
       "      <td>0.102</td>\n",
       "      <td>1024417</td>\n",
       "      <td>199938</td>\n",
       "      <td>CS</td>\n",
       "      <td>1024417</td>\n",
       "      <td>None</td>\n",
       "      <td>Single Roadbed</td>\n",
       "      <td>...</td>\n",
       "      <td>13</td>\n",
       "      <td>36</td>\n",
       "      <td>36</td>\n",
       "      <td>48071</td>\n",
       "      <td>36</td>\n",
       "      <td>20</td>\n",
       "      <td>Chambers</td>\n",
       "      <td>47</td>\n",
       "      <td>2.564857</td>\n",
       "      <td>0.209734</td>\n",
       "    </tr>\n",
       "    <tr>\n",
       "      <th>178633</th>\n",
       "      <td>178634</td>\n",
       "      <td>211794</td>\n",
       "      <td>0.000</td>\n",
       "      <td>1.018</td>\n",
       "      <td>702299</td>\n",
       "      <td>157089</td>\n",
       "      <td>FD</td>\n",
       "      <td>702299</td>\n",
       "      <td>None</td>\n",
       "      <td>Single Roadbed</td>\n",
       "      <td>...</td>\n",
       "      <td>13</td>\n",
       "      <td>36</td>\n",
       "      <td>36</td>\n",
       "      <td>48071</td>\n",
       "      <td>36</td>\n",
       "      <td>20</td>\n",
       "      <td>Chambers</td>\n",
       "      <td>47</td>\n",
       "      <td>2.564857</td>\n",
       "      <td>0.209734</td>\n",
       "    </tr>\n",
       "    <tr>\n",
       "      <th>177783</th>\n",
       "      <td>177784</td>\n",
       "      <td>211795</td>\n",
       "      <td>0.000</td>\n",
       "      <td>0.608</td>\n",
       "      <td>702300</td>\n",
       "      <td>157090</td>\n",
       "      <td>FD</td>\n",
       "      <td>702300</td>\n",
       "      <td>None</td>\n",
       "      <td>Single Roadbed</td>\n",
       "      <td>...</td>\n",
       "      <td>13</td>\n",
       "      <td>36</td>\n",
       "      <td>36</td>\n",
       "      <td>48071</td>\n",
       "      <td>36</td>\n",
       "      <td>20</td>\n",
       "      <td>Chambers</td>\n",
       "      <td>47</td>\n",
       "      <td>2.564857</td>\n",
       "      <td>0.209734</td>\n",
       "    </tr>\n",
       "    <tr>\n",
       "      <th>466992</th>\n",
       "      <td>466993</td>\n",
       "      <td>1572900002</td>\n",
       "      <td>0.000</td>\n",
       "      <td>395.495</td>\n",
       "      <td>SH8000-KG</td>\n",
       "      <td>1572377500</td>\n",
       "      <td>SH</td>\n",
       "      <td>8000</td>\n",
       "      <td>None</td>\n",
       "      <td>Single Roadbed</td>\n",
       "      <td>...</td>\n",
       "      <td>13</td>\n",
       "      <td>36</td>\n",
       "      <td>36</td>\n",
       "      <td>48071</td>\n",
       "      <td>36</td>\n",
       "      <td>20</td>\n",
       "      <td>Chambers</td>\n",
       "      <td>47</td>\n",
       "      <td>2.564857</td>\n",
       "      <td>0.209734</td>\n",
       "    </tr>\n",
       "  </tbody>\n",
       "</table>\n",
       "<p>97957 rows × 30 columns</p>\n",
       "</div>"
      ],
      "text/plain": [
       "        OBJECTID_left    GID_left  BEGIN_DFO  END_DFO     RTE_NM    RTE_GRID  \\\n",
       "483732         483733  1599256324     12.875  255.676  US0059-KG      154765   \n",
       "138000         138001      165318      0.000    0.175  204AA3624       75412   \n",
       "138049         138050      165317      0.000    0.121  204AA3623       75393   \n",
       "164724         164725      196731      0.000    0.352  204AA3620       75331   \n",
       "137637         137638      165316      0.000    0.124  204AA3622       75374   \n",
       "...               ...         ...        ...      ...        ...         ...   \n",
       "202196         202197      237163      0.000    0.389    1024414      199935   \n",
       "202601         202602      237166      0.000    0.102    1024417      199938   \n",
       "178633         178634      211794      0.000    1.018     702299      157089   \n",
       "177783         177784      211795      0.000    0.608     702300      157090   \n",
       "466992         466993  1572900002      0.000  395.495  SH8000-KG  1572377500   \n",
       "\n",
       "       RTE_PRFX  RTE_NBR RTE_SFX       RDBD_TYPE  ... OBJECTID_right  \\\n",
       "483732       US       59    None  Single Roadbed  ...             47   \n",
       "138000       CR     3624    None  Single Roadbed  ...             47   \n",
       "138049       CR     3623    None  Single Roadbed  ...             47   \n",
       "164724       CR     3620    None  Single Roadbed  ...             47   \n",
       "137637       CR     3622    None  Single Roadbed  ...             47   \n",
       "...         ...      ...     ...             ...  ...            ...   \n",
       "202196       CS  1024414    None  Single Roadbed  ...             13   \n",
       "202601       CS  1024417    None  Single Roadbed  ...             13   \n",
       "178633       FD   702299    None  Single Roadbed  ...             13   \n",
       "177783       FD   702300    None  Single Roadbed  ...             13   \n",
       "466992       SH     8000    None  Single Roadbed  ...             13   \n",
       "\n",
       "       CMPTRL_CNT DPS_CNTY_N  FIPS_ST_CN TXDOT_CNTY  TXDOT_DIST      CNTY_NM  \\\n",
       "483732        204        204       48407        204          11  San Jacinto   \n",
       "138000        204        204       48407        204          11  San Jacinto   \n",
       "138049        204        204       48407        204          11  San Jacinto   \n",
       "164724        204        204       48407        204          11  San Jacinto   \n",
       "137637        204        204       48407        204          11  San Jacinto   \n",
       "...           ...        ...         ...        ...         ...          ...   \n",
       "202196         36         36       48071         36          20     Chambers   \n",
       "202601         36         36       48071         36          20     Chambers   \n",
       "178633         36         36       48071         36          20     Chambers   \n",
       "177783         36         36       48071         36          20     Chambers   \n",
       "466992         36         36       48071         36          20     Chambers   \n",
       "\n",
       "        GID_right SHAPE_Leng_right  SHAPE_Area  \n",
       "483732         81         2.203358    0.153019  \n",
       "138000         81         2.203358    0.153019  \n",
       "138049         81         2.203358    0.153019  \n",
       "164724         81         2.203358    0.153019  \n",
       "137637         81         2.203358    0.153019  \n",
       "...           ...              ...         ...  \n",
       "202196         47         2.564857    0.209734  \n",
       "202601         47         2.564857    0.209734  \n",
       "178633         47         2.564857    0.209734  \n",
       "177783         47         2.564857    0.209734  \n",
       "466992         47         2.564857    0.209734  \n",
       "\n",
       "[97957 rows x 30 columns]"
      ]
     },
     "execution_count": 15,
     "metadata": {},
     "output_type": "execute_result"
    }
   ],
   "source": [
    "roadways = pgd.sjoin(SE_Roadways,SE_County,how='inner',predicate='intersects')\n",
    "#roadways"
   ]
  },
  {
   "cell_type": "code",
   "execution_count": 1,
   "id": "51473d2e",
   "metadata": {},
   "outputs": [
    {
     "ename": "NameError",
     "evalue": "name 'roadways' is not defined",
     "output_type": "error",
     "traceback": [
      "\u001b[1;31m---------------------------------------------------------------------------\u001b[0m",
      "\u001b[1;31mNameError\u001b[0m                                 Traceback (most recent call last)",
      "Input \u001b[1;32mIn [1]\u001b[0m, in \u001b[0;36m<cell line: 1>\u001b[1;34m()\u001b[0m\n\u001b[1;32m----> 1\u001b[0m \u001b[43mroadways\u001b[49m\u001b[38;5;241m.\u001b[39mto_csv(\u001b[38;5;124m'\u001b[39m\u001b[38;5;124mSouthEastTexasRoads.csv\u001b[39m\u001b[38;5;124m'\u001b[39m)\n\u001b[0;32m      2\u001b[0m roadways\u001b[38;5;241m.\u001b[39mto_file(\u001b[38;5;124m'\u001b[39m\u001b[38;5;124mSouthEastTexasRoads.shp\u001b[39m\u001b[38;5;124m'\u001b[39m)\n",
      "\u001b[1;31mNameError\u001b[0m: name 'roadways' is not defined"
     ]
    }
   ],
   "source": [
    "roadways.to_csv('SouthEastTexasRoads.csv')\n",
    "roadways.to_file('SouthEastTexasRoads.shp')\n",
    "#road = pd.read_csv('SouthEastTexasRoads.csv',low_memory=False)\n",
    "#road"
   ]
  },
  {
   "cell_type": "code",
   "execution_count": 7,
   "id": "931e1886",
   "metadata": {},
   "outputs": [
    {
     "data": {
      "text/plain": [
       "<Geographic 2D CRS: EPSG:4269>\n",
       "Name: NAD83\n",
       "Axis Info [ellipsoidal]:\n",
       "- Lat[north]: Geodetic latitude (degree)\n",
       "- Lon[east]: Geodetic longitude (degree)\n",
       "Area of Use:\n",
       "- name: North America - onshore and offshore: Canada - Alberta; British Columbia; Manitoba; New Brunswick; Newfoundland and Labrador; Northwest Territories; Nova Scotia; Nunavut; Ontario; Prince Edward Island; Quebec; Saskatchewan; Yukon. Puerto Rico. United States (USA) - Alabama; Alaska; Arizona; Arkansas; California; Colorado; Connecticut; Delaware; Florida; Georgia; Hawaii; Idaho; Illinois; Indiana; Iowa; Kansas; Kentucky; Louisiana; Maine; Maryland; Massachusetts; Michigan; Minnesota; Mississippi; Missouri; Montana; Nebraska; Nevada; New Hampshire; New Jersey; New Mexico; New York; North Carolina; North Dakota; Ohio; Oklahoma; Oregon; Pennsylvania; Rhode Island; South Carolina; South Dakota; Tennessee; Texas; Utah; Vermont; Virginia; Washington; West Virginia; Wisconsin; Wyoming. US Virgin Islands. British Virgin Islands.\n",
       "- bounds: (167.65, 14.92, -40.73, 86.45)\n",
       "Datum: North American Datum 1983\n",
       "- Ellipsoid: GRS 1980\n",
       "- Prime Meridian: Greenwich"
      ]
     },
     "execution_count": 7,
     "metadata": {},
     "output_type": "execute_result"
    }
   ],
   "source": [
    "os.chdir('C:\\\\Users\\\\nimes\\\\Desktop\\\\Project 2\\\\Data\\\\Shape')\n",
    "Airpoints = pgd.read_file('Trans_AirportPoint.shp')\n",
    "Airpoints.crs"
   ]
  },
  {
   "cell_type": "code",
   "execution_count": 9,
   "id": "fc7a4fa1",
   "metadata": {},
   "outputs": [
    {
     "data": {
      "text/plain": [
       "<AxesSubplot:>"
      ]
     },
     "execution_count": 9,
     "metadata": {},
     "output_type": "execute_result"
    },
    {
     "data": {
      "image/png": "[encoded data removed]",
      "text/plain": [
       "<Figure size 432x288 with 1 Axes>"
      ]
     },
     "metadata": {
      "needs_background": "light"
     },
     "output_type": "display_data"
    }
   ],
   "source": [
    "Airports = Airpoints.to_crs(epsg=4326)\n",
    "#Airports.plot()\n",
    "#Airports.crs\n",
    "#Airports"
   ]
  },
  {
   "cell_type": "code",
   "execution_count": 24,
   "id": "05749398",
   "metadata": {},
   "outputs": [],
   "source": [
    "Airports_SE = Airports.clip(SE_County)\n",
    "#Airports_SE\n",
    "Airports_SE.plot()"
   ]
  },
  {
   "cell_type": "code",
   "execution_count": 27,
   "id": "50ec8ebe",
   "metadata": {},
   "outputs": [],
   "source": [
    "airports = pgd.sjoin(Airports_SE,SE_County,how='inner',predicate='intersects')\n",
    "#airports"
   ]
  },
  {
   "cell_type": "code",
   "execution_count": 28,
   "id": "da3e83c4",
   "metadata": {},
   "outputs": [
    {
     "name": "stderr",
     "output_type": "stream",
     "text": [
      "C:\\Users\\nimes\\AppData\\Local\\Temp\\ipykernel_17900\\884639525.py:1: UserWarning: Column names longer than 10 characters will be truncated when saved to ESRI Shapefile.\n",
      "  airports.to_file('SouthEastTexasAirports.shp')\n"
     ]
    }
   ],
   "source": [
    "airports.to_file('SouthEastTexasAirports.shp')\n",
    "airports.to_csv('SouthEastTexasAirports.csv')\n",
    "#airport = pd.read_csv('SouthEastTexasAirports.csv')\n",
    "#airport"
   ]
  },
  {
   "cell_type": "code",
   "execution_count": 39,
   "id": "dbb4edfa",
   "metadata": {},
   "outputs": [],
   "source": [
    "os.chdir('C:\\\\Users\\\\nimes\\\\Desktop\\\\Project 2\\\\Data\\\\Texas_Railroads')\n",
    "Railroads = pgd.read_file('Railroad.shp')\n",
    "#Railroads.crs"
   ]
  },
  {
   "cell_type": "code",
   "execution_count": 41,
   "id": "f3cf4626",
   "metadata": {},
   "outputs": [],
   "source": [
    "SE_Railroads = Railroads.clip(SE_County)\n",
    "#SE_Railroads.plot()"
   ]
  },
  {
   "cell_type": "code",
   "execution_count": 42,
   "id": "3bf26b03",
   "metadata": {},
   "outputs": [],
   "source": [
    "railways = pgd.sjoin(SE_Railroads,SE_County,how='inner',predicate='intersects')"
   ]
  },
  {
   "cell_type": "code",
   "execution_count": 43,
   "id": "7f83092e",
   "metadata": {},
   "outputs": [
    {
     "name": "stderr",
     "output_type": "stream",
     "text": [
      "C:\\Users\\nimes\\AppData\\Local\\Temp\\ipykernel_17900\\319762932.py:2: UserWarning: Column names longer than 10 characters will be truncated when saved to ESRI Shapefile.\n",
      "  railways.to_file('SouthEastTexasRailways.shp')\n"
     ]
    }
   ],
   "source": [
    "railways.to_csv('SouthEastTexasRailways.csv')\n",
    "railways.to_file('SouthEastTexasRailways.shp')\n",
    "#rail = pd.read_csv('SouthEastTexasRailways.csv')\n",
    "#rail"
   ]
  }
 ],
 "metadata": {
  "kernelspec": {
   "display_name": "Python 3 (ipykernel)",
   "language": "python",
   "name": "python3"
  },
  "language_info": {
   "codemirror_mode": {
    "name": "ipython",
    "version": 3
   },
   "file_extension": ".py",
   "mimetype": "text/x-python",
   "name": "python",
   "nbconvert_exporter": "python",
   "pygments_lexer": "ipython3",
   "version": "3.9.12"
  }
 },
 "nbformat": 4,
 "nbformat_minor": 5
}
